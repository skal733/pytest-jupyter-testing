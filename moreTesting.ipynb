{
 "cells": [
  {
   "cell_type": "markdown",
   "id": "5e7e44af",
   "metadata": {},
   "source": [
    "Here, we're calling in the functions we made previously and running them through a testing-only file by importing the notebook's functions. "
   ]
  },
  {
   "cell_type": "code",
   "execution_count": 1,
   "id": "6ece6adb",
   "metadata": {},
   "outputs": [
    {
     "name": "stdout",
     "output_type": "stream",
     "text": [
      "importing Jupyter notebook from usingPyTest.ipynb\n",
      "\n"
     ]
    }
   ],
   "source": [
    "import import_ipynb\n",
    "from usingPyTest import multiplyPolynomials\n",
    "from usingPyTest import findGCD\n",
    "import pytest\n",
    "import ipytest\n",
    "ipytest.autoconfig()"
   ]
  },
  {
   "cell_type": "code",
   "execution_count": 2,
   "id": "98a5a6f6",
   "metadata": {},
   "outputs": [
    {
     "name": "stdout",
     "output_type": "stream",
     "text": [
      "\u001b[31mF\u001b[0m\u001b[31mF\u001b[0m\u001b[31m                                                                                           [100%]\u001b[0m\n",
      "============================================ FAILURES =============================================\n",
      "\u001b[31m\u001b[1m__________________________________________ test_moreGCD ___________________________________________\u001b[0m\n",
      "\n",
      "    \u001b[94mdef\u001b[39;49;00m \u001b[92mtest_moreGCD\u001b[39;49;00m():\u001b[90m\u001b[39;49;00m\n",
      "        \u001b[94massert\u001b[39;49;00m(findGCD(\u001b[94m3\u001b[39;49;00m, \u001b[94m3\u001b[39;49;00m) == \u001b[94m3\u001b[39;49;00m)\u001b[90m\u001b[39;49;00m\n",
      "        \u001b[94massert\u001b[39;49;00m(findGCD(\u001b[94m37\u001b[39;49;00m, \u001b[94m17\u001b[39;49;00m) == \u001b[94m1\u001b[39;49;00m)\u001b[90m\u001b[39;49;00m\n",
      "        \u001b[94mfor\u001b[39;49;00m i \u001b[95min\u001b[39;49;00m \u001b[96mrange\u001b[39;49;00m(\u001b[94m1\u001b[39;49;00m, \u001b[94m100\u001b[39;49;00m):\u001b[90m\u001b[39;49;00m\n",
      "            \u001b[94massert\u001b[39;49;00m(findGCD(\u001b[94m103\u001b[39;49;00m, i) == \u001b[94m1\u001b[39;49;00m)\u001b[90m\u001b[39;49;00m\n",
      ">       \u001b[94massert\u001b[39;49;00m(findGCD(\u001b[94m3\u001b[39;49;00m, \u001b[94m3\u001b[39;49;00m) == \u001b[94m1\u001b[39;49;00m) \u001b[90m#want this to fail\u001b[39;49;00m\u001b[90m\u001b[39;49;00m\n",
      "\u001b[1m\u001b[31mE       assert 3 == 1\u001b[0m\n",
      "\u001b[1m\u001b[31mE        +  where 3 = findGCD(3, 3)\u001b[0m\n",
      "\n",
      "\u001b[1m\u001b[31m<ipython-input-2-c3c08d6cd559>\u001b[0m:6: AssertionError\n",
      "\u001b[31m\u001b[1m______________________________________ test_morePolynomials _______________________________________\u001b[0m\n",
      "\n",
      "    \u001b[94mdef\u001b[39;49;00m \u001b[92mtest_morePolynomials\u001b[39;49;00m():\u001b[90m\u001b[39;49;00m\n",
      "        \u001b[94massert\u001b[39;49;00m(multiplyPolynomials([\u001b[94m1\u001b[39;49;00m, \u001b[94m3\u001b[39;49;00m], [\u001b[94m1\u001b[39;49;00m, \u001b[94m3\u001b[39;49;00m]) == [\u001b[94m1\u001b[39;49;00m, \u001b[94m6\u001b[39;49;00m, \u001b[94m9\u001b[39;49;00m])\u001b[90m\u001b[39;49;00m\n",
      "        \u001b[94massert\u001b[39;49;00m(multiplyPolynomials([-\u001b[94m1\u001b[39;49;00m, \u001b[94m2\u001b[39;49;00m], [\u001b[94m1\u001b[39;49;00m, \u001b[94m2\u001b[39;49;00m]) == [-\u001b[94m1\u001b[39;49;00m, \u001b[94m0\u001b[39;49;00m, \u001b[94m4\u001b[39;49;00m])\u001b[90m\u001b[39;49;00m\n",
      "        \u001b[94mfor\u001b[39;49;00m i \u001b[95min\u001b[39;49;00m \u001b[96mrange\u001b[39;49;00m(\u001b[94m1\u001b[39;49;00m, \u001b[94m30\u001b[39;49;00m):\u001b[90m\u001b[39;49;00m\n",
      "            \u001b[94massert\u001b[39;49;00m(multiplyPolynomials([\u001b[94m1\u001b[39;49;00m], [i, i, i]) == [i, i, i])\u001b[90m\u001b[39;49;00m\n",
      ">       \u001b[94massert\u001b[39;49;00m(multiplyPolynomials([\u001b[94m1\u001b[39;49;00m], [\u001b[94m1\u001b[39;49;00m]) == [\u001b[94m2\u001b[39;49;00m]) \u001b[90m#want this to fail\u001b[39;49;00m\u001b[90m\u001b[39;49;00m\n",
      "\u001b[1m\u001b[31mE       assert [1] == [2]\u001b[0m\n",
      "\u001b[1m\u001b[31mE         At index 0 diff: 1 != 2\u001b[0m\n",
      "\u001b[1m\u001b[31mE         Full diff:\u001b[0m\n",
      "\u001b[1m\u001b[31mE         - [2]\u001b[0m\n",
      "\u001b[1m\u001b[31mE         + [1]\u001b[0m\n",
      "\n",
      "\u001b[1m\u001b[31m<ipython-input-2-c3c08d6cd559>\u001b[0m:13: AssertionError\n",
      "===================================== short test summary info =====================================\n",
      "FAILED t_57770536c0d846f193c92cbbed330f81.py::test_moreGCD - assert 3 == 1\n",
      "FAILED t_57770536c0d846f193c92cbbed330f81.py::test_morePolynomials - assert [1] == [2]\n"
     ]
    }
   ],
   "source": [
    "%%ipytest -qq\n",
    "\n",
    "def test_moreGCD():\n",
    "    assert(findGCD(3, 3) == 3)\n",
    "    assert(findGCD(37, 17) == 1)\n",
    "    for i in range(1, 100):\n",
    "        assert(findGCD(103, i) == 1)\n",
    "    assert(findGCD(3, 3) == 1) #want this to fail\n",
    "        \n",
    "def test_morePolynomials():\n",
    "    assert(multiplyPolynomials([1, 3], [1, 3]) == [1, 6, 9])\n",
    "    assert(multiplyPolynomials([-1, 2], [1, 2]) == [-1, 0, 4])\n",
    "    for i in range(1, 30):\n",
    "        assert(multiplyPolynomials([1], [i, i, i]) == [i, i, i])\n",
    "    assert(multiplyPolynomials([1], [1]) == [2]) #want this to fail"
   ]
  }
 ],
 "metadata": {
  "kernelspec": {
   "display_name": "Python 3",
   "language": "python",
   "name": "python3"
  },
  "language_info": {
   "codemirror_mode": {
    "name": "ipython",
    "version": 3
   },
   "file_extension": ".py",
   "mimetype": "text/x-python",
   "name": "python",
   "nbconvert_exporter": "python",
   "pygments_lexer": "ipython3",
   "version": "3.10.6"
  }
 },
 "nbformat": 4,
 "nbformat_minor": 5
}
