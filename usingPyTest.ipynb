{
 "cells": [
  {
   "cell_type": "markdown",
   "id": "571b18cc",
   "metadata": {},
   "source": [
    "First possible package that can be used is ipytest, which allows for interactive testing within the notebook.I tried to put together an example below:"
   ]
  },
  {
   "cell_type": "code",
   "execution_count": 1,
   "id": "af51c618",
   "metadata": {
    "scrolled": true
   },
   "outputs": [],
   "source": [
    "#Importing the ipytest package into the notebook:\n",
    "import pytest\n",
    "import ipytest\n",
    "import math\n",
    "ipytest.autoconfig()"
   ]
  },
  {
   "cell_type": "markdown",
   "id": "16f15ff4",
   "metadata": {},
   "source": [
    "Now using the package on an example function:"
   ]
  },
  {
   "cell_type": "code",
   "execution_count": 2,
   "id": "dbbacd63",
   "metadata": {},
   "outputs": [
    {
     "name": "stdout",
     "output_type": "stream",
     "text": [
      "\u001b[31mF\u001b[0m\u001b[31mF\u001b[0m\u001b[31m                                                                                           [100%]\u001b[0m\n",
      "============================================ FAILURES =============================================\n",
      "\u001b[31m\u001b[1m____________________________________________ test_GCD _____________________________________________\u001b[0m\n",
      "\n",
      "    \u001b[94mdef\u001b[39;49;00m \u001b[92mtest_GCD\u001b[39;49;00m():\u001b[90m\u001b[39;49;00m\n",
      "        \u001b[94massert\u001b[39;49;00m(findGCD(\u001b[94m1\u001b[39;49;00m, \u001b[94m1\u001b[39;49;00m) == \u001b[94m1\u001b[39;49;00m)\u001b[90m\u001b[39;49;00m\n",
      "        \u001b[94massert\u001b[39;49;00m(findGCD(\u001b[94m12\u001b[39;49;00m, \u001b[94m3\u001b[39;49;00m) == \u001b[94m3\u001b[39;49;00m)\u001b[90m\u001b[39;49;00m\n",
      "        \u001b[94massert\u001b[39;49;00m(findGCD(\u001b[94m25\u001b[39;49;00m, \u001b[94m9\u001b[39;49;00m) == \u001b[94m1\u001b[39;49;00m)\u001b[90m\u001b[39;49;00m\n",
      "        \u001b[94massert\u001b[39;49;00m(findGCD(\u001b[94m2950209\u001b[39;49;00m,\u001b[94m4383\u001b[39;49;00m) == \u001b[94m9\u001b[39;49;00m)\u001b[90m\u001b[39;49;00m\n",
      "        \u001b[94massert\u001b[39;49;00m(findGCD(\u001b[94m36\u001b[39;49;00m, \u001b[94m18\u001b[39;49;00m) == \u001b[94m18\u001b[39;49;00m)\u001b[90m\u001b[39;49;00m\n",
      ">       \u001b[94massert\u001b[39;49;00m(findGCD(\u001b[94m12\u001b[39;49;00m, \u001b[94m3\u001b[39;49;00m) == \u001b[94m1\u001b[39;49;00m) \u001b[90m#want this to fail\u001b[39;49;00m\u001b[90m\u001b[39;49;00m\n",
      "\u001b[1m\u001b[31mE       assert 3 == 1\u001b[0m\n",
      "\u001b[1m\u001b[31mE        +  where 3 = findGCD(12, 3)\u001b[0m\n",
      "\n",
      "\u001b[1m\u001b[31m<ipython-input-2-acf74d29cd15>\u001b[0m:30: AssertionError\n",
      "\u001b[31m\u001b[1m____________________________________ test_multiplyPolynomials _____________________________________\u001b[0m\n",
      "\n",
      "    \u001b[94mdef\u001b[39;49;00m \u001b[92mtest_multiplyPolynomials\u001b[39;49;00m():\u001b[90m\u001b[39;49;00m\n",
      "        \u001b[94massert\u001b[39;49;00m(multiplyPolynomials([\u001b[94m2\u001b[39;49;00m], [\u001b[94m3\u001b[39;49;00m]) == [\u001b[94m6\u001b[39;49;00m])\u001b[90m\u001b[39;49;00m\n",
      "        \u001b[94massert\u001b[39;49;00m(multiplyPolynomials([\u001b[94m2\u001b[39;49;00m,-\u001b[94m4\u001b[39;49;00m],[\u001b[94m3\u001b[39;49;00m,\u001b[94m5\u001b[39;49;00m]) == [\u001b[94m6\u001b[39;49;00m,-\u001b[94m2\u001b[39;49;00m,-\u001b[94m20\u001b[39;49;00m])\u001b[90m\u001b[39;49;00m\n",
      "        \u001b[94massert\u001b[39;49;00m(multiplyPolynomials([\u001b[94m0\u001b[39;49;00m], [\u001b[94m0\u001b[39;49;00m]) == [\u001b[94m0\u001b[39;49;00m])\u001b[90m\u001b[39;49;00m\n",
      "        \u001b[94massert\u001b[39;49;00m(multiplyPolynomials([\u001b[94m1\u001b[39;49;00m, \u001b[94m1\u001b[39;49;00m], [\u001b[94m1\u001b[39;49;00m, \u001b[94m1\u001b[39;49;00m]) == [\u001b[94m1\u001b[39;49;00m, \u001b[94m2\u001b[39;49;00m, \u001b[94m1\u001b[39;49;00m])\u001b[90m\u001b[39;49;00m\n",
      "        \u001b[94massert\u001b[39;49;00m(multiplyPolynomials([\u001b[94m2\u001b[39;49;00m,\u001b[94m0\u001b[39;49;00m,-\u001b[94m4\u001b[39;49;00m],[\u001b[94m3\u001b[39;49;00m,\u001b[94m0\u001b[39;49;00m,\u001b[94m2\u001b[39;49;00m,\u001b[94m0\u001b[39;49;00m]) == [\u001b[94m6\u001b[39;49;00m,\u001b[94m0\u001b[39;49;00m,-\u001b[94m8\u001b[39;49;00m,\u001b[94m0\u001b[39;49;00m,-\u001b[94m8\u001b[39;49;00m,\u001b[94m0\u001b[39;49;00m])\u001b[90m\u001b[39;49;00m\n",
      ">       \u001b[94massert\u001b[39;49;00m(multiplyPolynomials([\u001b[94m1\u001b[39;49;00m, \u001b[94m3\u001b[39;49;00m, \u001b[94m4\u001b[39;49;00m], [\u001b[94m1\u001b[39;49;00m, \u001b[94m2\u001b[39;49;00m]) == [\u001b[94m1\u001b[39;49;00m]) \u001b[90m#want this to fail\u001b[39;49;00m\u001b[90m\u001b[39;49;00m\n",
      "\u001b[1m\u001b[31mE       assert [1, 5, 10, 8] == [1]\u001b[0m\n",
      "\u001b[1m\u001b[31mE         Left contains 3 more items, first extra item: 5\u001b[0m\n",
      "\u001b[1m\u001b[31mE         Full diff:\u001b[0m\n",
      "\u001b[1m\u001b[31mE         - [1]\u001b[0m\n",
      "\u001b[1m\u001b[31mE         + [1, 5, 10, 8]\u001b[0m\n",
      "\n",
      "\u001b[1m\u001b[31m<ipython-input-2-acf74d29cd15>\u001b[0m:38: AssertionError\n",
      "===================================== short test summary info =====================================\n",
      "FAILED t_d3815e3ee37b4d5daeff1029df597a2d.py::test_GCD - assert 3 == 1\n",
      "FAILED t_d3815e3ee37b4d5daeff1029df597a2d.py::test_multiplyPolynomials - assert [1, 5, 10, 8] == [1]\n"
     ]
    }
   ],
   "source": [
    "%%ipytest -qq\n",
    "\n",
    "#finds the gcd of two numbers with euclidean algorithm\n",
    "def findGCD(a, b):\n",
    "    while (a % b != 0):\n",
    "        a, b = b, a % b\n",
    "    return abs(b)\n",
    "\n",
    "#multiplies two polynomials and gives the resulting polynomial\n",
    "def multiplyPolynomials(p1, p2):\n",
    "    #calculates the degree of both polynomials\n",
    "    p1Deg = len(p1) - 1 \n",
    "    p2Deg = len(p2) - 1\n",
    "    #ensures that there will always be something in result to add to\n",
    "    result = [0] + (p1Deg + p2Deg) * [0]\n",
    "    for currentP1Deg in range(len(p1)):\n",
    "        for currentP2Deg in range(len(p2)):\n",
    "            #calculates the current degree, resultant coeff from\n",
    "            #multiplying the two, and then adds it to the designated\n",
    "            #spot within the list\n",
    "            currentDegree = currentP1Deg + currentP2Deg\n",
    "            resultantCoeff = p1[currentP1Deg] * p2[currentP2Deg]\n",
    "            result[currentDegree] += resultantCoeff\n",
    "    return result\n",
    "\n",
    "def test_GCD():\n",
    "    assert(findGCD(1, 1) == 1)\n",
    "    assert(findGCD(12, 3) == 3)\n",
    "    assert(findGCD(25, 9) == 1)\n",
    "    assert(findGCD(2950209,4383) == 9)\n",
    "    assert(findGCD(36, 18) == 18)\n",
    "    assert(findGCD(12, 3) == 1) #want this to fail\n",
    "    \n",
    "def test_multiplyPolynomials():\n",
    "    assert(multiplyPolynomials([2], [3]) == [6])\n",
    "    assert(multiplyPolynomials([2,-4],[3,5]) == [6,-2,-20])\n",
    "    assert(multiplyPolynomials([0], [0]) == [0])\n",
    "    assert(multiplyPolynomials([1, 1], [1, 1]) == [1, 2, 1])\n",
    "    assert(multiplyPolynomials([2,0,-4],[3,0,2,0]) == [6,0,-8,0,-8,0])\n",
    "    assert(multiplyPolynomials([1, 3, 4], [1, 2]) == [1]) #want this to fail"
   ]
  }
 ],
 "metadata": {
  "kernelspec": {
   "display_name": "Python 3",
   "language": "python",
   "name": "python3"
  },
  "language_info": {
   "codemirror_mode": {
    "name": "ipython",
    "version": 3
   },
   "file_extension": ".py",
   "mimetype": "text/x-python",
   "name": "python",
   "nbconvert_exporter": "python",
   "pygments_lexer": "ipython3",
   "version": "3.10.6"
  }
 },
 "nbformat": 4,
 "nbformat_minor": 5
}
